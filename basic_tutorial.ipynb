{
 "cells": [
  {
   "attachments": {},
   "cell_type": "markdown",
   "metadata": {},
   "source": [
    "# KEGG API Biopython Notebook\n",
    "\n",
    "This notebook features basic functions from biopython.kegg module that facilitate the use\n",
    "of KEGG's API. \n",
    "\n",
    "With these basic functions, you can search, find, and retrieve information from the KEGG database, which is very important for a variety of analyses.\n",
    "\n",
    "\n",
    "\n",
    "## Install necessary packages"
   ]
  },
  {
   "cell_type": "code",
   "execution_count": null,
   "metadata": {},
   "outputs": [],
   "source": [
    "%pip install biopython"
   ]
  },
  {
   "cell_type": "code",
   "execution_count": null,
   "metadata": {},
   "outputs": [],
   "source": [
    "%pip install pandas"
   ]
  },
  {
   "attachments": {},
   "cell_type": "markdown",
   "metadata": {},
   "source": [
    "## Load packages into notebook"
   ]
  },
  {
   "cell_type": "code",
   "execution_count": 1,
   "metadata": {},
   "outputs": [],
   "source": [
    "from Bio.KEGG import REST\n",
    "import pandas as pd\n",
    "import re"
   ]
  },
  {
   "attachments": {},
   "cell_type": "markdown",
   "metadata": {},
   "source": [
    "## Load function\n",
    "\n",
    "This function is going to be used below"
   ]
  },
  {
   "cell_type": "code",
   "execution_count": 2,
   "metadata": {},
   "outputs": [],
   "source": [
    "def get_df(data):\n",
    "    lines = data.read().strip().split(\"\\n\")\n",
    "    data_list = []\n",
    "    for line in lines:\n",
    "        parts = line.split(\"\\t\")\n",
    "        if len(parts) == 2:\n",
    "            data_list.append(parts)          \n",
    "    return pd.DataFrame(data_list, columns=[\"Data\", \"Name\"])"
   ]
  },
  {
   "attachments": {},
   "cell_type": "markdown",
   "metadata": {},
   "source": [
    "## Explore KEGG databases\n",
    "\n",
    "KEGG is a big database made of subdatabases. To list all the databases available you can use the function `kegg_info` \n",
    "with \"kegg\". \n"
   ]
  },
  {
   "cell_type": "code",
   "execution_count": 14,
   "metadata": {},
   "outputs": [
    {
     "name": "stdout",
     "output_type": "stream",
     "text": [
      "kegg             Kyoto Encyclopedia of Genes and Genomes\n",
      "kegg             Release 110.0+/06-08, Jun 24\n",
      "                 Kanehisa Laboratories\n",
      "                 pathway   1,172,423 entries\n",
      "                 brite       390,942 entries\n",
      "                 module          561 entries\n",
      "                 orthology    26,794 entries\n",
      "                 genome       24,739 entries\n",
      "                 genes     54,564,849 entries\n",
      "                 compound     19,356 entries\n",
      "                 glycan       11,220 entries\n",
      "                 reaction     12,088 entries\n",
      "                 rclass        3,194 entries\n",
      "                 enzyme        8,158 entries\n",
      "                 network       1,549 entries\n",
      "                 variant       1,452 entries\n",
      "                 disease       2,750 entries\n",
      "                 drug         12,449 entries\n",
      "                 dgroup        2,471 entries\n",
      "\n"
     ]
    }
   ],
   "source": [
    "print(REST.kegg_info(\"kegg\").read())"
   ]
  },
  {
   "attachments": {},
   "cell_type": "markdown",
   "metadata": {},
   "source": [
    "To explore a specific database, use its name in the function:"
   ]
  },
  {
   "cell_type": "code",
   "execution_count": 16,
   "metadata": {},
   "outputs": [
    {
     "name": "stdout",
     "output_type": "stream",
     "text": [
      "module           KEGG Module Database\n",
      "md               Release 110.0+/06-08, Jun 24\n",
      "                 Kanehisa Laboratories\n",
      "                 561 entries\n",
      "\n",
      "linked db        pathway\n",
      "                 ko\n",
      "                 <org>\n",
      "                 genome\n",
      "                 compound\n",
      "                 glycan\n",
      "                 reaction\n",
      "                 enzyme\n",
      "                 pubmed\n",
      "\n"
     ]
    }
   ],
   "source": [
    "print(REST.kegg_info(\"module\").read())"
   ]
  },
  {
   "attachments": {},
   "cell_type": "markdown",
   "metadata": {},
   "source": [
    "## Listing all data present in specific database"
   ]
  },
  {
   "cell_type": "code",
   "execution_count": 31,
   "metadata": {},
   "outputs": [
    {
     "name": "stdout",
     "output_type": "stream",
     "text": [
      "map01100\tMetabolic pathways\n",
      "map01110\tBiosynthesis of secondary metabolites\n",
      "map01120\tMicrobial metabolism in diverse environments\n",
      "map01200\tCarbon metabolism\n",
      "map01210\t2-Oxocarboxylic acid metabolism\n",
      "map01212\tFatty acid metabolism\n",
      "map01230\tBiosynthesis of amino acids\n",
      "map01232\tNucleotide metabolism\n",
      "map01250\tBiosynthesis of nucleotide sugars\n",
      "map01240\tBiosynthesis of cofactors\n",
      "map01220\tDegradation of aromatic compounds\n",
      "map00010\tGlycolysis / Gluconeogenesis\n",
      "map00020\tCitrate cycle (TCA cycle)\n",
      "map00030\tPentose phosphate pathway\n",
      "map00040\tPentose and glucuronate interconversions\n",
      "map00051\tFructose and mannose metabolism\n",
      "map00052\tGalactose metabolism\n",
      "map00053\tAscorbate and aldarate metabolism\n",
      "map00500\tStarch and sucrose metabolism\n",
      "map00520\tAmino sugar and nucleotide sugar metabolism\n"
     ]
    }
   ],
   "source": [
    "lines = REST.kegg_list(\"pathway\").read().split(\"\\n\")\n",
    "\n",
    "for line in lines[:20]:\n",
    "    print(line)"
   ]
  },
  {
   "attachments": {},
   "cell_type": "markdown",
   "metadata": {},
   "source": [
    "We could transform this into a nice table:"
   ]
  },
  {
   "cell_type": "code",
   "execution_count": 106,
   "metadata": {},
   "outputs": [
    {
     "data": {
      "text/html": [
       "<div>\n",
       "<style scoped>\n",
       "    .dataframe tbody tr th:only-of-type {\n",
       "        vertical-align: middle;\n",
       "    }\n",
       "\n",
       "    .dataframe tbody tr th {\n",
       "        vertical-align: top;\n",
       "    }\n",
       "\n",
       "    .dataframe thead th {\n",
       "        text-align: right;\n",
       "    }\n",
       "</style>\n",
       "<table border=\"1\" class=\"dataframe\">\n",
       "  <thead>\n",
       "    <tr style=\"text-align: right;\">\n",
       "      <th></th>\n",
       "      <th>Data</th>\n",
       "      <th>Name</th>\n",
       "    </tr>\n",
       "  </thead>\n",
       "  <tbody>\n",
       "    <tr>\n",
       "      <th>0</th>\n",
       "      <td>map01100</td>\n",
       "      <td>Metabolic pathways</td>\n",
       "    </tr>\n",
       "    <tr>\n",
       "      <th>1</th>\n",
       "      <td>map01110</td>\n",
       "      <td>Biosynthesis of secondary metabolites</td>\n",
       "    </tr>\n",
       "    <tr>\n",
       "      <th>2</th>\n",
       "      <td>map01120</td>\n",
       "      <td>Microbial metabolism in diverse environments</td>\n",
       "    </tr>\n",
       "    <tr>\n",
       "      <th>3</th>\n",
       "      <td>map01200</td>\n",
       "      <td>Carbon metabolism</td>\n",
       "    </tr>\n",
       "    <tr>\n",
       "      <th>4</th>\n",
       "      <td>map01210</td>\n",
       "      <td>2-Oxocarboxylic acid metabolism</td>\n",
       "    </tr>\n",
       "    <tr>\n",
       "      <th>...</th>\n",
       "      <td>...</td>\n",
       "      <td>...</td>\n",
       "    </tr>\n",
       "    <tr>\n",
       "      <th>566</th>\n",
       "      <td>map07035</td>\n",
       "      <td>Prostaglandins</td>\n",
       "    </tr>\n",
       "    <tr>\n",
       "      <th>567</th>\n",
       "      <td>map07110</td>\n",
       "      <td>Benzoic acid family</td>\n",
       "    </tr>\n",
       "    <tr>\n",
       "      <th>568</th>\n",
       "      <td>map07112</td>\n",
       "      <td>1,2-Diphenyl substitution family</td>\n",
       "    </tr>\n",
       "    <tr>\n",
       "      <th>569</th>\n",
       "      <td>map07114</td>\n",
       "      <td>Naphthalene family</td>\n",
       "    </tr>\n",
       "    <tr>\n",
       "      <th>570</th>\n",
       "      <td>map07117</td>\n",
       "      <td>Benzodiazepine family</td>\n",
       "    </tr>\n",
       "  </tbody>\n",
       "</table>\n",
       "<p>571 rows × 2 columns</p>\n",
       "</div>"
      ],
      "text/plain": [
       "         Data                                          Name\n",
       "0    map01100                            Metabolic pathways\n",
       "1    map01110         Biosynthesis of secondary metabolites\n",
       "2    map01120  Microbial metabolism in diverse environments\n",
       "3    map01200                             Carbon metabolism\n",
       "4    map01210               2-Oxocarboxylic acid metabolism\n",
       "..        ...                                           ...\n",
       "566  map07035                                Prostaglandins\n",
       "567  map07110                           Benzoic acid family\n",
       "568  map07112              1,2-Diphenyl substitution family\n",
       "569  map07114                            Naphthalene family\n",
       "570  map07117                         Benzodiazepine family\n",
       "\n",
       "[571 rows x 2 columns]"
      ]
     },
     "execution_count": 106,
     "metadata": {},
     "output_type": "execute_result"
    }
   ],
   "source": [
    "df_pathways = get_df(REST.kegg_list(\"pathway\"))\n",
    "df_pathways"
   ]
  },
  {
   "attachments": {},
   "cell_type": "markdown",
   "metadata": {},
   "source": [
    "And search in it specific pathways"
   ]
  },
  {
   "cell_type": "code",
   "execution_count": 193,
   "metadata": {},
   "outputs": [
    {
     "data": {
      "text/html": [
       "<div>\n",
       "<style scoped>\n",
       "    .dataframe tbody tr th:only-of-type {\n",
       "        vertical-align: middle;\n",
       "    }\n",
       "\n",
       "    .dataframe tbody tr th {\n",
       "        vertical-align: top;\n",
       "    }\n",
       "\n",
       "    .dataframe thead th {\n",
       "        text-align: right;\n",
       "    }\n",
       "</style>\n",
       "<table border=\"1\" class=\"dataframe\">\n",
       "  <thead>\n",
       "    <tr style=\"text-align: right;\">\n",
       "      <th></th>\n",
       "      <th>Data</th>\n",
       "      <th>Name</th>\n",
       "    </tr>\n",
       "  </thead>\n",
       "  <tbody>\n",
       "    <tr>\n",
       "      <th>32</th>\n",
       "      <td>map00910</td>\n",
       "      <td>Nitrogen metabolism</td>\n",
       "    </tr>\n",
       "  </tbody>\n",
       "</table>\n",
       "</div>"
      ],
      "text/plain": [
       "        Data                 Name\n",
       "32  map00910  Nitrogen metabolism"
      ]
     },
     "execution_count": 193,
     "metadata": {},
     "output_type": "execute_result"
    }
   ],
   "source": [
    "df_pathways[df_pathways[\"Name\"].str.contains(\"Nitrogen\")]"
   ]
  },
  {
   "attachments": {},
   "cell_type": "markdown",
   "metadata": {},
   "source": [
    "## Finding id within database\n",
    "\n",
    "kegg_find( )\n",
    "\n",
    "With this function you can find entries with matching query keywords or other query data in a specific database.\n",
    "For example, using the same id from above, we could search it in the \"pathway\" database: "
   ]
  },
  {
   "cell_type": "code",
   "execution_count": 191,
   "metadata": {},
   "outputs": [
    {
     "name": "stdout",
     "output_type": "stream",
     "text": [
      "path:map00910\tNitrogen metabolism\n",
      "\n"
     ]
    }
   ],
   "source": [
    "print(REST.kegg_find(\"pathway\",\"map00910\").read())"
   ]
  },
  {
   "attachments": {},
   "cell_type": "markdown",
   "metadata": {},
   "source": [
    "## Getting entry information from id\n",
    "But usually, we want more info about our ids. Then we can use the function kegg_get( )\n",
    "\n",
    "Let's say I want to get more info on the \"Nitrogen metabolism\", we could do it this way:"
   ]
  },
  {
   "cell_type": "code",
   "execution_count": 206,
   "metadata": {},
   "outputs": [
    {
     "ename": "HTTPError",
     "evalue": "HTTP Error 400: Bad Request",
     "output_type": "error",
     "traceback": [
      "\u001b[0;31m---------------------------------------------------------------------------\u001b[0m",
      "\u001b[0;31mHTTPError\u001b[0m                                 Traceback (most recent call last)",
      "Cell \u001b[0;32mIn[206], line 1\u001b[0m\n\u001b[0;32m----> 1\u001b[0m \u001b[39mprint\u001b[39m(REST\u001b[39m.\u001b[39;49mkegg_get(\u001b[39m\"\u001b[39;49m\u001b[39mX\u001b[39;49m\u001b[39m\"\u001b[39;49m)\u001b[39m.\u001b[39mread())\n",
      "File \u001b[0;32m~/miniforge3/lib/python3.10/site-packages/Bio/KEGG/REST.py:222\u001b[0m, in \u001b[0;36mkegg_get\u001b[0;34m(dbentries, option)\u001b[0m\n\u001b[1;32m    220\u001b[0m     \u001b[39mraise\u001b[39;00m \u001b[39mValueError\u001b[39;00m(\u001b[39m\"\u001b[39m\u001b[39mInvalid option arg for kegg get request.\u001b[39m\u001b[39m\"\u001b[39m)\n\u001b[1;32m    221\u001b[0m \u001b[39melse\u001b[39;00m:\n\u001b[0;32m--> 222\u001b[0m     resp \u001b[39m=\u001b[39m _q(\u001b[39m\"\u001b[39;49m\u001b[39mget\u001b[39;49m\u001b[39m\"\u001b[39;49m, dbentries)\n\u001b[1;32m    224\u001b[0m \u001b[39mreturn\u001b[39;00m resp\n",
      "File \u001b[0;32m~/miniforge3/lib/python3.10/site-packages/Bio/KEGG/REST.py:56\u001b[0m, in \u001b[0;36m_q\u001b[0;34m(op, arg1, arg2, arg3)\u001b[0m\n\u001b[1;32m     54\u001b[0m \u001b[39melse\u001b[39;00m:\n\u001b[1;32m     55\u001b[0m     args \u001b[39m=\u001b[39m \u001b[39mf\u001b[39m\u001b[39m\"\u001b[39m\u001b[39m{\u001b[39;00mop\u001b[39m}\u001b[39;00m\u001b[39m/\u001b[39m\u001b[39m{\u001b[39;00marg1\u001b[39m}\u001b[39;00m\u001b[39m\"\u001b[39m\n\u001b[0;32m---> 56\u001b[0m resp \u001b[39m=\u001b[39m urlopen(URL \u001b[39m%\u001b[39;49m (args))\n\u001b[1;32m     58\u001b[0m \u001b[39mif\u001b[39;00m \u001b[39m\"\u001b[39m\u001b[39mimage\u001b[39m\u001b[39m\"\u001b[39m \u001b[39m==\u001b[39m arg2:\n\u001b[1;32m     59\u001b[0m     \u001b[39mreturn\u001b[39;00m resp\n",
      "File \u001b[0;32m~/miniforge3/lib/python3.10/urllib/request.py:216\u001b[0m, in \u001b[0;36murlopen\u001b[0;34m(url, data, timeout, cafile, capath, cadefault, context)\u001b[0m\n\u001b[1;32m    214\u001b[0m \u001b[39melse\u001b[39;00m:\n\u001b[1;32m    215\u001b[0m     opener \u001b[39m=\u001b[39m _opener\n\u001b[0;32m--> 216\u001b[0m \u001b[39mreturn\u001b[39;00m opener\u001b[39m.\u001b[39;49mopen(url, data, timeout)\n",
      "File \u001b[0;32m~/miniforge3/lib/python3.10/urllib/request.py:525\u001b[0m, in \u001b[0;36mOpenerDirector.open\u001b[0;34m(self, fullurl, data, timeout)\u001b[0m\n\u001b[1;32m    523\u001b[0m \u001b[39mfor\u001b[39;00m processor \u001b[39min\u001b[39;00m \u001b[39mself\u001b[39m\u001b[39m.\u001b[39mprocess_response\u001b[39m.\u001b[39mget(protocol, []):\n\u001b[1;32m    524\u001b[0m     meth \u001b[39m=\u001b[39m \u001b[39mgetattr\u001b[39m(processor, meth_name)\n\u001b[0;32m--> 525\u001b[0m     response \u001b[39m=\u001b[39m meth(req, response)\n\u001b[1;32m    527\u001b[0m \u001b[39mreturn\u001b[39;00m response\n",
      "File \u001b[0;32m~/miniforge3/lib/python3.10/urllib/request.py:634\u001b[0m, in \u001b[0;36mHTTPErrorProcessor.http_response\u001b[0;34m(self, request, response)\u001b[0m\n\u001b[1;32m    631\u001b[0m \u001b[39m# According to RFC 2616, \"2xx\" code indicates that the client's\u001b[39;00m\n\u001b[1;32m    632\u001b[0m \u001b[39m# request was successfully received, understood, and accepted.\u001b[39;00m\n\u001b[1;32m    633\u001b[0m \u001b[39mif\u001b[39;00m \u001b[39mnot\u001b[39;00m (\u001b[39m200\u001b[39m \u001b[39m<\u001b[39m\u001b[39m=\u001b[39m code \u001b[39m<\u001b[39m \u001b[39m300\u001b[39m):\n\u001b[0;32m--> 634\u001b[0m     response \u001b[39m=\u001b[39m \u001b[39mself\u001b[39;49m\u001b[39m.\u001b[39;49mparent\u001b[39m.\u001b[39;49merror(\n\u001b[1;32m    635\u001b[0m         \u001b[39m'\u001b[39;49m\u001b[39mhttp\u001b[39;49m\u001b[39m'\u001b[39;49m, request, response, code, msg, hdrs)\n\u001b[1;32m    637\u001b[0m \u001b[39mreturn\u001b[39;00m response\n",
      "File \u001b[0;32m~/miniforge3/lib/python3.10/urllib/request.py:563\u001b[0m, in \u001b[0;36mOpenerDirector.error\u001b[0;34m(self, proto, *args)\u001b[0m\n\u001b[1;32m    561\u001b[0m \u001b[39mif\u001b[39;00m http_err:\n\u001b[1;32m    562\u001b[0m     args \u001b[39m=\u001b[39m (\u001b[39mdict\u001b[39m, \u001b[39m'\u001b[39m\u001b[39mdefault\u001b[39m\u001b[39m'\u001b[39m, \u001b[39m'\u001b[39m\u001b[39mhttp_error_default\u001b[39m\u001b[39m'\u001b[39m) \u001b[39m+\u001b[39m orig_args\n\u001b[0;32m--> 563\u001b[0m     \u001b[39mreturn\u001b[39;00m \u001b[39mself\u001b[39;49m\u001b[39m.\u001b[39;49m_call_chain(\u001b[39m*\u001b[39;49margs)\n",
      "File \u001b[0;32m~/miniforge3/lib/python3.10/urllib/request.py:496\u001b[0m, in \u001b[0;36mOpenerDirector._call_chain\u001b[0;34m(self, chain, kind, meth_name, *args)\u001b[0m\n\u001b[1;32m    494\u001b[0m \u001b[39mfor\u001b[39;00m handler \u001b[39min\u001b[39;00m handlers:\n\u001b[1;32m    495\u001b[0m     func \u001b[39m=\u001b[39m \u001b[39mgetattr\u001b[39m(handler, meth_name)\n\u001b[0;32m--> 496\u001b[0m     result \u001b[39m=\u001b[39m func(\u001b[39m*\u001b[39;49margs)\n\u001b[1;32m    497\u001b[0m     \u001b[39mif\u001b[39;00m result \u001b[39mis\u001b[39;00m \u001b[39mnot\u001b[39;00m \u001b[39mNone\u001b[39;00m:\n\u001b[1;32m    498\u001b[0m         \u001b[39mreturn\u001b[39;00m result\n",
      "File \u001b[0;32m~/miniforge3/lib/python3.10/urllib/request.py:643\u001b[0m, in \u001b[0;36mHTTPDefaultErrorHandler.http_error_default\u001b[0;34m(self, req, fp, code, msg, hdrs)\u001b[0m\n\u001b[1;32m    642\u001b[0m \u001b[39mdef\u001b[39;00m \u001b[39mhttp_error_default\u001b[39m(\u001b[39mself\u001b[39m, req, fp, code, msg, hdrs):\n\u001b[0;32m--> 643\u001b[0m     \u001b[39mraise\u001b[39;00m HTTPError(req\u001b[39m.\u001b[39mfull_url, code, msg, hdrs, fp)\n",
      "\u001b[0;31mHTTPError\u001b[0m: HTTP Error 400: Bad Request"
     ]
    }
   ],
   "source": [
    "print(REST.kegg_get(\"X\").read())"
   ]
  },
  {
   "attachments": {},
   "cell_type": "markdown",
   "metadata": {},
   "source": [
    "We can see all the modules that are associated with it and recover this information \n",
    "using regex (regular expressions):"
   ]
  },
  {
   "cell_type": "code",
   "execution_count": 198,
   "metadata": {},
   "outputs": [
    {
     "data": {
      "text/html": [
       "<div>\n",
       "<style scoped>\n",
       "    .dataframe tbody tr th:only-of-type {\n",
       "        vertical-align: middle;\n",
       "    }\n",
       "\n",
       "    .dataframe tbody tr th {\n",
       "        vertical-align: top;\n",
       "    }\n",
       "\n",
       "    .dataframe thead th {\n",
       "        text-align: right;\n",
       "    }\n",
       "</style>\n",
       "<table border=\"1\" class=\"dataframe\">\n",
       "  <thead>\n",
       "    <tr style=\"text-align: right;\">\n",
       "      <th></th>\n",
       "      <th>ModuleID</th>\n",
       "      <th>Name</th>\n",
       "      <th>mapID</th>\n",
       "    </tr>\n",
       "  </thead>\n",
       "  <tbody>\n",
       "    <tr>\n",
       "      <th>0</th>\n",
       "      <td>M00175</td>\n",
       "      <td>Nitrogen fixation, nitrogen =&gt; ammonia</td>\n",
       "      <td>map00910</td>\n",
       "    </tr>\n",
       "    <tr>\n",
       "      <th>1</th>\n",
       "      <td>M00528</td>\n",
       "      <td>Nitrification, ammonia =&gt; nitrite</td>\n",
       "      <td>map00910</td>\n",
       "    </tr>\n",
       "    <tr>\n",
       "      <th>2</th>\n",
       "      <td>M00529</td>\n",
       "      <td>Denitrification, nitrate =&gt; nitrogen</td>\n",
       "      <td>map00910</td>\n",
       "    </tr>\n",
       "    <tr>\n",
       "      <th>3</th>\n",
       "      <td>M00530</td>\n",
       "      <td>Dissimilatory nitrate reduction, nitrate =&gt; am...</td>\n",
       "      <td>map00910</td>\n",
       "    </tr>\n",
       "    <tr>\n",
       "      <th>4</th>\n",
       "      <td>M00531</td>\n",
       "      <td>Assimilatory nitrate reduction, nitrate =&gt; amm...</td>\n",
       "      <td>map00910</td>\n",
       "    </tr>\n",
       "    <tr>\n",
       "      <th>5</th>\n",
       "      <td>M00804</td>\n",
       "      <td>Complete nitrification, comammox, ammonia =&gt; n...</td>\n",
       "      <td>map00910</td>\n",
       "    </tr>\n",
       "    <tr>\n",
       "      <th>6</th>\n",
       "      <td>M00973</td>\n",
       "      <td>Anammox, nitrite + ammonia =&gt; nitrogen</td>\n",
       "      <td>map00910</td>\n",
       "    </tr>\n",
       "  </tbody>\n",
       "</table>\n",
       "</div>"
      ],
      "text/plain": [
       "  ModuleID                                               Name     mapID\n",
       "0   M00175             Nitrogen fixation, nitrogen => ammonia  map00910\n",
       "1   M00528                  Nitrification, ammonia => nitrite  map00910\n",
       "2   M00529               Denitrification, nitrate => nitrogen  map00910\n",
       "3   M00530  Dissimilatory nitrate reduction, nitrate => am...  map00910\n",
       "4   M00531  Assimilatory nitrate reduction, nitrate => amm...  map00910\n",
       "5   M00804  Complete nitrification, comammox, ammonia => n...  map00910\n",
       "6   M00973             Anammox, nitrite + ammonia => nitrogen  map00910"
      ]
     },
     "execution_count": 198,
     "metadata": {},
     "output_type": "execute_result"
    }
   ],
   "source": [
    "pattern = r\"(M0\\d+)\\s+(.*)\\s\\[PATH:(.*)\\]\"\n",
    "\n",
    "modules_info = re.findall(pattern,REST.kegg_get(\"map00910\").read())\n",
    "\n",
    "df_modules = pd.DataFrame(modules_info, columns=[\"ModuleID\", \"Name\", \"mapID\"])\n",
    "df_modules"
   ]
  },
  {
   "cell_type": "code",
   "execution_count": null,
   "metadata": {},
   "outputs": [],
   "source": []
  }
 ],
 "metadata": {
  "kernelspec": {
   "display_name": "base",
   "language": "python",
   "name": "python3"
  },
  "language_info": {
   "codemirror_mode": {
    "name": "ipython",
    "version": 3
   },
   "file_extension": ".py",
   "mimetype": "text/x-python",
   "name": "python",
   "nbconvert_exporter": "python",
   "pygments_lexer": "ipython3",
   "version": "3.10.12"
  },
  "orig_nbformat": 4
 },
 "nbformat": 4,
 "nbformat_minor": 2
}
