{
 "cells": [
  {
   "attachments": {},
   "cell_type": "markdown",
   "metadata": {},
   "source": [
    "# KEGG API Biopython Notebook\n",
    "\n",
    "This notebook features basic functions from biopython.kegg module that facilitate the use\n",
    "of KEGG's API. \n",
    "\n",
    "With these basic functions, you can search, find, and retrieve information from the KEGG database, which is very important for a variety of analyses.\n",
    "\n",
    "\n",
    "\n",
    "## Install necessary packages"
   ]
  },
  {
   "cell_type": "code",
   "execution_count": null,
   "metadata": {},
   "outputs": [],
   "source": [
    "%pip install biopython"
   ]
  },
  {
   "cell_type": "code",
   "execution_count": null,
   "metadata": {},
   "outputs": [],
   "source": [
    "%pip install pandas"
   ]
  },
  {
   "attachments": {},
   "cell_type": "markdown",
   "metadata": {},
   "source": [
    "## Load packages into notebook"
   ]
  },
  {
   "cell_type": "code",
   "execution_count": 1,
   "metadata": {},
   "outputs": [],
   "source": [
    "from Bio.KEGG import REST\n",
    "import pandas as pd\n",
    "import re"
   ]
  },
  {
   "attachments": {},
   "cell_type": "markdown",
   "metadata": {},
   "source": [
    "## Load function\n",
    "\n",
    "This function is going to be used below"
   ]
  },
  {
   "cell_type": "code",
   "execution_count": 2,
   "metadata": {},
   "outputs": [],
   "source": [
    "def get_df(data):\n",
    "    lines = data.read().strip().split(\"\\n\")\n",
    "    data_list = []\n",
    "    for line in lines:\n",
    "        parts = line.split(\"\\t\")\n",
    "        if len(parts) == 2:\n",
    "            data_list.append(parts)          \n",
    "    return pd.DataFrame(data_list, columns=[\"Data\", \"Name\"])"
   ]
  },
  {
   "attachments": {},
   "cell_type": "markdown",
   "metadata": {},
   "source": [
    "## Explore KEGG databases\n",
    "\n",
    "KEGG is a big database made of subdatabases. To list all the databases available you can use the function `kegg_info` \n",
    "with \"kegg\". \n"
   ]
  },
  {
   "cell_type": "code",
   "execution_count": 14,
   "metadata": {},
   "outputs": [
    {
     "name": "stdout",
     "output_type": "stream",
     "text": [
      "kegg             Kyoto Encyclopedia of Genes and Genomes\n",
      "kegg             Release 110.0+/06-08, Jun 24\n",
      "                 Kanehisa Laboratories\n",
      "                 pathway   1,172,423 entries\n",
      "                 brite       390,942 entries\n",
      "                 module          561 entries\n",
      "                 orthology    26,794 entries\n",
      "                 genome       24,739 entries\n",
      "                 genes     54,564,849 entries\n",
      "                 compound     19,356 entries\n",
      "                 glycan       11,220 entries\n",
      "                 reaction     12,088 entries\n",
      "                 rclass        3,194 entries\n",
      "                 enzyme        8,158 entries\n",
      "                 network       1,549 entries\n",
      "                 variant       1,452 entries\n",
      "                 disease       2,750 entries\n",
      "                 drug         12,449 entries\n",
      "                 dgroup        2,471 entries\n",
      "\n"
     ]
    }
   ],
   "source": [
    "print(REST.kegg_info(\"kegg\").read())"
   ]
  },
  {
   "attachments": {},
   "cell_type": "markdown",
   "metadata": {},
   "source": [
    "To explore a specific database, use its name in the function:"
   ]
  },
  {
   "cell_type": "code",
   "execution_count": 16,
   "metadata": {},
   "outputs": [
    {
     "name": "stdout",
     "output_type": "stream",
     "text": [
      "module           KEGG Module Database\n",
      "md               Release 110.0+/06-08, Jun 24\n",
      "                 Kanehisa Laboratories\n",
      "                 561 entries\n",
      "\n",
      "linked db        pathway\n",
      "                 ko\n",
      "                 <org>\n",
      "                 genome\n",
      "                 compound\n",
      "                 glycan\n",
      "                 reaction\n",
      "                 enzyme\n",
      "                 pubmed\n",
      "\n"
     ]
    }
   ],
   "source": [
    "print(REST.kegg_info(\"module\").read())"
   ]
  },
  {
   "attachments": {},
   "cell_type": "markdown",
   "metadata": {},
   "source": [
    "## Listing all data present in specific database"
   ]
  },
  {
   "cell_type": "code",
   "execution_count": 31,
   "metadata": {},
   "outputs": [
    {
     "name": "stdout",
     "output_type": "stream",
     "text": [
      "map01100\tMetabolic pathways\n",
      "map01110\tBiosynthesis of secondary metabolites\n",
      "map01120\tMicrobial metabolism in diverse environments\n",
      "map01200\tCarbon metabolism\n",
      "map01210\t2-Oxocarboxylic acid metabolism\n",
      "map01212\tFatty acid metabolism\n",
      "map01230\tBiosynthesis of amino acids\n",
      "map01232\tNucleotide metabolism\n",
      "map01250\tBiosynthesis of nucleotide sugars\n",
      "map01240\tBiosynthesis of cofactors\n",
      "map01220\tDegradation of aromatic compounds\n",
      "map00010\tGlycolysis / Gluconeogenesis\n",
      "map00020\tCitrate cycle (TCA cycle)\n",
      "map00030\tPentose phosphate pathway\n",
      "map00040\tPentose and glucuronate interconversions\n",
      "map00051\tFructose and mannose metabolism\n",
      "map00052\tGalactose metabolism\n",
      "map00053\tAscorbate and aldarate metabolism\n",
      "map00500\tStarch and sucrose metabolism\n",
      "map00520\tAmino sugar and nucleotide sugar metabolism\n"
     ]
    }
   ],
   "source": [
    "lines = REST.kegg_list(\"pathway\").read().split(\"\\n\")\n",
    "\n",
    "for line in lines[:20]:\n",
    "    print(line)"
   ]
  },
  {
   "attachments": {},
   "cell_type": "markdown",
   "metadata": {},
   "source": [
    "We could transform this into a nice table:"
   ]
  },
  {
   "cell_type": "code",
   "execution_count": 106,
   "metadata": {},
   "outputs": [
    {
     "data": {
      "text/html": [
       "<div>\n",
       "<style scoped>\n",
       "    .dataframe tbody tr th:only-of-type {\n",
       "        vertical-align: middle;\n",
       "    }\n",
       "\n",
       "    .dataframe tbody tr th {\n",
       "        vertical-align: top;\n",
       "    }\n",
       "\n",
       "    .dataframe thead th {\n",
       "        text-align: right;\n",
       "    }\n",
       "</style>\n",
       "<table border=\"1\" class=\"dataframe\">\n",
       "  <thead>\n",
       "    <tr style=\"text-align: right;\">\n",
       "      <th></th>\n",
       "      <th>Data</th>\n",
       "      <th>Name</th>\n",
       "    </tr>\n",
       "  </thead>\n",
       "  <tbody>\n",
       "    <tr>\n",
       "      <th>0</th>\n",
       "      <td>map01100</td>\n",
       "      <td>Metabolic pathways</td>\n",
       "    </tr>\n",
       "    <tr>\n",
       "      <th>1</th>\n",
       "      <td>map01110</td>\n",
       "      <td>Biosynthesis of secondary metabolites</td>\n",
       "    </tr>\n",
       "    <tr>\n",
       "      <th>2</th>\n",
       "      <td>map01120</td>\n",
       "      <td>Microbial metabolism in diverse environments</td>\n",
       "    </tr>\n",
       "    <tr>\n",
       "      <th>3</th>\n",
       "      <td>map01200</td>\n",
       "      <td>Carbon metabolism</td>\n",
       "    </tr>\n",
       "    <tr>\n",
       "      <th>4</th>\n",
       "      <td>map01210</td>\n",
       "      <td>2-Oxocarboxylic acid metabolism</td>\n",
       "    </tr>\n",
       "    <tr>\n",
       "      <th>...</th>\n",
       "      <td>...</td>\n",
       "      <td>...</td>\n",
       "    </tr>\n",
       "    <tr>\n",
       "      <th>566</th>\n",
       "      <td>map07035</td>\n",
       "      <td>Prostaglandins</td>\n",
       "    </tr>\n",
       "    <tr>\n",
       "      <th>567</th>\n",
       "      <td>map07110</td>\n",
       "      <td>Benzoic acid family</td>\n",
       "    </tr>\n",
       "    <tr>\n",
       "      <th>568</th>\n",
       "      <td>map07112</td>\n",
       "      <td>1,2-Diphenyl substitution family</td>\n",
       "    </tr>\n",
       "    <tr>\n",
       "      <th>569</th>\n",
       "      <td>map07114</td>\n",
       "      <td>Naphthalene family</td>\n",
       "    </tr>\n",
       "    <tr>\n",
       "      <th>570</th>\n",
       "      <td>map07117</td>\n",
       "      <td>Benzodiazepine family</td>\n",
       "    </tr>\n",
       "  </tbody>\n",
       "</table>\n",
       "<p>571 rows × 2 columns</p>\n",
       "</div>"
      ],
      "text/plain": [
       "         Data                                          Name\n",
       "0    map01100                            Metabolic pathways\n",
       "1    map01110         Biosynthesis of secondary metabolites\n",
       "2    map01120  Microbial metabolism in diverse environments\n",
       "3    map01200                             Carbon metabolism\n",
       "4    map01210               2-Oxocarboxylic acid metabolism\n",
       "..        ...                                           ...\n",
       "566  map07035                                Prostaglandins\n",
       "567  map07110                           Benzoic acid family\n",
       "568  map07112              1,2-Diphenyl substitution family\n",
       "569  map07114                            Naphthalene family\n",
       "570  map07117                         Benzodiazepine family\n",
       "\n",
       "[571 rows x 2 columns]"
      ]
     },
     "execution_count": 106,
     "metadata": {},
     "output_type": "execute_result"
    }
   ],
   "source": [
    "df_pathways = get_df(REST.kegg_list(\"pathway\"))\n",
    "df_pathways"
   ]
  },
  {
   "attachments": {},
   "cell_type": "markdown",
   "metadata": {},
   "source": [
    "And search in it specific pathways"
   ]
  },
  {
   "cell_type": "code",
   "execution_count": 193,
   "metadata": {},
   "outputs": [
    {
     "data": {
      "text/html": [
       "<div>\n",
       "<style scoped>\n",
       "    .dataframe tbody tr th:only-of-type {\n",
       "        vertical-align: middle;\n",
       "    }\n",
       "\n",
       "    .dataframe tbody tr th {\n",
       "        vertical-align: top;\n",
       "    }\n",
       "\n",
       "    .dataframe thead th {\n",
       "        text-align: right;\n",
       "    }\n",
       "</style>\n",
       "<table border=\"1\" class=\"dataframe\">\n",
       "  <thead>\n",
       "    <tr style=\"text-align: right;\">\n",
       "      <th></th>\n",
       "      <th>Data</th>\n",
       "      <th>Name</th>\n",
       "    </tr>\n",
       "  </thead>\n",
       "  <tbody>\n",
       "    <tr>\n",
       "      <th>32</th>\n",
       "      <td>map00910</td>\n",
       "      <td>Nitrogen metabolism</td>\n",
       "    </tr>\n",
       "  </tbody>\n",
       "</table>\n",
       "</div>"
      ],
      "text/plain": [
       "        Data                 Name\n",
       "32  map00910  Nitrogen metabolism"
      ]
     },
     "execution_count": 193,
     "metadata": {},
     "output_type": "execute_result"
    }
   ],
   "source": [
    "df_pathways[df_pathways[\"Name\"].str.contains(\"Nitrogen\")]"
   ]
  },
  {
   "attachments": {},
   "cell_type": "markdown",
   "metadata": {},
   "source": [
    "## Finding id within database\n",
    "\n",
    "kegg_find( )\n",
    "\n",
    "With this function you can find entries with matching query keywords or other query data in a specific database.\n",
    "For example, using the same id from above, we could search it in the \"pathway\" database: "
   ]
  },
  {
   "cell_type": "code",
   "execution_count": 191,
   "metadata": {},
   "outputs": [
    {
     "name": "stdout",
     "output_type": "stream",
     "text": [
      "path:map00910\tNitrogen metabolism\n",
      "\n"
     ]
    }
   ],
   "source": [
    "print(REST.kegg_find(\"pathway\",\"map00910\").read())"
   ]
  },
  {
   "attachments": {},
   "cell_type": "markdown",
   "metadata": {},
   "source": [
    "## Getting entry information from id\n",
    "But usually, we want more info about our ids. Then we can use the function kegg_get( )\n",
    "\n",
    "Let's say I want to get more info on the \"Nitrogen metabolism\", we could do it this way:"
   ]
  },
  {
   "cell_type": "code",
   "execution_count": 32,
   "metadata": {},
   "outputs": [
    {
     "name": "stdout",
     "output_type": "stream",
     "text": [
      "ENTRY       map00910                    Pathway\n",
      "NAME        Nitrogen metabolism\n",
      "DESCRIPTION The biological process of the nitrogen cycle is a complex interplay among many microorganisms catalyzing different reactions, where nitrogen is found in various oxidation states ranging from +5 in nitrate to -3 in ammonia. The core nitrogen cycle involves four reduction pathways and two oxidation pathways. Nitrogen fixation [MD:M00175] is the process of reducing atmospheric molecular nitrogen to ammonia, a biologically useful reduced form incorporated into amino acids and other vital compounds. The ability of fixing atmospheric nitrogen by the nitrogenase enzyme complex is present in restricted prokaryotes (diazotrophs). The other reduction pathways are assimilatory nitrate reduction [MD:M00531] and dissimilatory nitrate reduction [MD:M00530] both for conversion to ammonia, and denitrification [MD:M00529]. Denitrification is a respiration in which nitrate or nitrite is reduced as a terminal electron acceptor under low oxygen or anoxic conditions, producing gaseous nitrogen compounds (N2, NO and N2O) to the atmosphere. The two oxidation pathways are nitrification [MD:M00528] and anaerobic ammonium oxidation (anammox) [MD:M00973]. Nitrification is the oxidation of ammonia (NH3) with oxygen into nitrite followed by the oxidation of nitrite into nitrate. The first step is performed by ammonia-oxidizing microorganisms (e.g., Nitrosomonas and Nitrosococcus) and the second step by nitrite-oxidizing microorganisms (e.g., Nitrobacter). Anammox is a biochemical process of oxidizing ammonium (NH4+) into dinitrogen gas (N2) using nitrite as an electron acceptor. It occurs in the anammoxosome, a membrane bound compartment inside the cytoplasm, of anammox bacteria (e.g., Planctomycetes).\n",
      "CLASS       Metabolism; Energy metabolism\n",
      "PATHWAY_MAP map00910  Nitrogen metabolism\n",
      "MODULE      M00175  Nitrogen fixation, nitrogen => ammonia [PATH:map00910]\n",
      "            M00528  Nitrification, ammonia => nitrite [PATH:map00910]\n",
      "            M00529  Denitrification, nitrate => nitrogen [PATH:map00910]\n",
      "            M00530  Dissimilatory nitrate reduction, nitrate => ammonia [PATH:map00910]\n",
      "            M00531  Assimilatory nitrate reduction, nitrate => ammonia [PATH:map00910]\n",
      "            M00804  Complete nitrification, comammox, ammonia => nitrite => nitrate [PATH:map00910]\n",
      "            M00973  Anammox, nitrite + ammonia => nitrogen [PATH:map00910]\n",
      "DBLINKS     GO: 0006807\n",
      "REFERENCE   PMID:14702404\n",
      "  AUTHORS   Scott JD, Ludwig RA\n",
      "  TITLE     Azorhizobium caulinodans electron-transferring flavoprotein N electrochemically couples pyruvate dehydrogenase complex activity to N2 fixation.\n",
      "  JOURNAL   Microbiology 150:117-26 (2004)\n",
      "            DOI:10.1099/mic.0.26603-0\n",
      "REFERENCE   PMID:17408485\n",
      "  AUTHORS   Kneip C, Lockhart P, Voss C, Maier UG\n",
      "  TITLE     Nitrogen fixation in eukaryotes--new models for symbiosis.\n",
      "  JOURNAL   BMC Evol Biol 7:55 (2007)\n",
      "            DOI:10.1186/1471-2148-7-55\n",
      "REFERENCE   PMID:11004450\n",
      "  AUTHORS   Whittaker M, Bergmann D, Arciero D, Hooper AB\n",
      "  TITLE     Electron transfer during the oxidation of ammonia by the chemolithotrophic bacterium Nitrosomonas europaea.\n",
      "  JOURNAL   Biochim Biophys Acta 1459:346-55 (2000)\n",
      "            DOI:10.1016/S0005-2728(00)00171-7\n",
      "REFERENCE   PMID:15528644\n",
      "  AUTHORS   Cabello P, Roldan MD, Moreno-Vivian C\n",
      "  TITLE     Nitrate reduction and the nitrogen cycle in archaea.\n",
      "  JOURNAL   Microbiology 150:3527-46 (2004)\n",
      "            DOI:10.1099/mic.0.27303-0\n",
      "REFERENCE   PMID:11921398\n",
      "  AUTHORS   Stolz JF, Basu P\n",
      "  TITLE     Evolution of nitrate reductase: molecular and structural variations on a common function.\n",
      "  JOURNAL   Chembiochem 3:198-206 (2002)\n",
      "            DOI:10.1002/1439-7633(20020301)3:2/3<198::AID-CBIC198>3.0.CO;2-C\n",
      "REFERENCE   PMID:18021072\n",
      "  AUTHORS   Morozkina EV, Zvyagilskaya RA\n",
      "  TITLE     Nitrate reductases: structure, functions, and effect of stress factors.\n",
      "  JOURNAL   Biochemistry (Mosc) 72:1151-60 (2007)\n",
      "            DOI:10.1134/S0006297907100124\n",
      "REFERENCE   PMID:19247843\n",
      "  AUTHORS   Jetten MS, Niftrik L, Strous M, Kartal B, Keltjens JT, Op den Camp HJ\n",
      "  TITLE     Biochemistry and molecular biology of anammox bacteria.\n",
      "  JOURNAL   Crit Rev Biochem Mol Biol 44:65-84 (2009)\n",
      "            DOI:10.1080/10409230902722783\n",
      "REFERENCE   PMID:22221911\n",
      "  AUTHORS   Luesken FA, Wu ML, Op den Camp HJ, Keltjens JT, Stunnenberg H, Francoijs KJ, Strous M, Jetten MS\n",
      "  TITLE     Effect of oxygen on the anaerobic methanotroph 'Candidatus Methylomirabilis oxyfera': kinetic and transcriptional analysis.\n",
      "  JOURNAL   Environ Microbiol 14:1024-34 (2012)\n",
      "            DOI:10.1111/j.1462-2920.2011.02682.x\n",
      "REFERENCE   PMID:26610024\n",
      "  AUTHORS   Daims H, Lebedeva EV, Pjevac P, Han P, Herbold C, Albertsen M, Jehmlich N, Palatinszky M, Vierheilig J, Bulaev A, Kirkegaard RH, von Bergen M, Rattei T, Bendinger B, Nielsen PH, Wagner M\n",
      "  TITLE     Complete nitrification by Nitrospira bacteria.\n",
      "  JOURNAL   Nature 528:504-9 (2015)\n",
      "            DOI:10.1038/nature16461\n",
      "REFERENCE   PMID:26610025\n",
      "  AUTHORS   van Kessel MA, Speth DR, Albertsen M, Nielsen PH, Op den Camp HJ, Kartal B, Jetten MS, Lucker S\n",
      "  TITLE     Complete nitrification by a single microorganism.\n",
      "  JOURNAL   Nature 528:555-9 (2015)\n",
      "            DOI:10.1038/nature16459\n",
      "REL_PATHWAY map00220  Arginine biosynthesis\n",
      "            map00250  Alanine, aspartate and glutamate metabolism\n",
      "            map00460  Cyanoamino acid metabolism\n",
      "            map00630  Glyoxylate and dicarboxylate metabolism\n",
      "            map00680  Methane metabolism\n",
      "            map00720  Carbon fixation pathways in prokaryotes\n",
      "KO_PATHWAY  ko00910\n",
      "///\n",
      "\n"
     ]
    }
   ],
   "source": [
    "print(REST.kegg_get(\"map00910\").read())"
   ]
  },
  {
   "attachments": {},
   "cell_type": "markdown",
   "metadata": {},
   "source": [
    "We can see all the modules that are associated with it and recover this information \n",
    "using regex (regular expressions):"
   ]
  },
  {
   "cell_type": "code",
   "execution_count": 198,
   "metadata": {},
   "outputs": [
    {
     "data": {
      "text/html": [
       "<div>\n",
       "<style scoped>\n",
       "    .dataframe tbody tr th:only-of-type {\n",
       "        vertical-align: middle;\n",
       "    }\n",
       "\n",
       "    .dataframe tbody tr th {\n",
       "        vertical-align: top;\n",
       "    }\n",
       "\n",
       "    .dataframe thead th {\n",
       "        text-align: right;\n",
       "    }\n",
       "</style>\n",
       "<table border=\"1\" class=\"dataframe\">\n",
       "  <thead>\n",
       "    <tr style=\"text-align: right;\">\n",
       "      <th></th>\n",
       "      <th>ModuleID</th>\n",
       "      <th>Name</th>\n",
       "      <th>mapID</th>\n",
       "    </tr>\n",
       "  </thead>\n",
       "  <tbody>\n",
       "    <tr>\n",
       "      <th>0</th>\n",
       "      <td>M00175</td>\n",
       "      <td>Nitrogen fixation, nitrogen =&gt; ammonia</td>\n",
       "      <td>map00910</td>\n",
       "    </tr>\n",
       "    <tr>\n",
       "      <th>1</th>\n",
       "      <td>M00528</td>\n",
       "      <td>Nitrification, ammonia =&gt; nitrite</td>\n",
       "      <td>map00910</td>\n",
       "    </tr>\n",
       "    <tr>\n",
       "      <th>2</th>\n",
       "      <td>M00529</td>\n",
       "      <td>Denitrification, nitrate =&gt; nitrogen</td>\n",
       "      <td>map00910</td>\n",
       "    </tr>\n",
       "    <tr>\n",
       "      <th>3</th>\n",
       "      <td>M00530</td>\n",
       "      <td>Dissimilatory nitrate reduction, nitrate =&gt; am...</td>\n",
       "      <td>map00910</td>\n",
       "    </tr>\n",
       "    <tr>\n",
       "      <th>4</th>\n",
       "      <td>M00531</td>\n",
       "      <td>Assimilatory nitrate reduction, nitrate =&gt; amm...</td>\n",
       "      <td>map00910</td>\n",
       "    </tr>\n",
       "    <tr>\n",
       "      <th>5</th>\n",
       "      <td>M00804</td>\n",
       "      <td>Complete nitrification, comammox, ammonia =&gt; n...</td>\n",
       "      <td>map00910</td>\n",
       "    </tr>\n",
       "    <tr>\n",
       "      <th>6</th>\n",
       "      <td>M00973</td>\n",
       "      <td>Anammox, nitrite + ammonia =&gt; nitrogen</td>\n",
       "      <td>map00910</td>\n",
       "    </tr>\n",
       "  </tbody>\n",
       "</table>\n",
       "</div>"
      ],
      "text/plain": [
       "  ModuleID                                               Name     mapID\n",
       "0   M00175             Nitrogen fixation, nitrogen => ammonia  map00910\n",
       "1   M00528                  Nitrification, ammonia => nitrite  map00910\n",
       "2   M00529               Denitrification, nitrate => nitrogen  map00910\n",
       "3   M00530  Dissimilatory nitrate reduction, nitrate => am...  map00910\n",
       "4   M00531  Assimilatory nitrate reduction, nitrate => amm...  map00910\n",
       "5   M00804  Complete nitrification, comammox, ammonia => n...  map00910\n",
       "6   M00973             Anammox, nitrite + ammonia => nitrogen  map00910"
      ]
     },
     "execution_count": 198,
     "metadata": {},
     "output_type": "execute_result"
    }
   ],
   "source": [
    "pattern = r\"(M0\\d+)\\s+(.*)\\s\\[PATH:(.*)\\]\"\n",
    "\n",
    "modules_info = re.findall(pattern,REST.kegg_get(\"map00910\").read())\n",
    "\n",
    "df_modules = pd.DataFrame(modules_info, columns=[\"ModuleID\", \"Name\", \"mapID\"])\n",
    "df_modules"
   ]
  },
  {
   "cell_type": "code",
   "execution_count": null,
   "metadata": {},
   "outputs": [],
   "source": []
  }
 ],
 "metadata": {
  "kernelspec": {
   "display_name": "base",
   "language": "python",
   "name": "python3"
  },
  "language_info": {
   "codemirror_mode": {
    "name": "ipython",
    "version": 3
   },
   "file_extension": ".py",
   "mimetype": "text/x-python",
   "name": "python",
   "nbconvert_exporter": "python",
   "pygments_lexer": "ipython3",
   "version": "3.10.12"
  },
  "orig_nbformat": 4
 },
 "nbformat": 4,
 "nbformat_minor": 2
}
